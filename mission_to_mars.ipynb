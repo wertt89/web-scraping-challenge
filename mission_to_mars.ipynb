{
 "cells": [
  {
   "cell_type": "code",
   "execution_count": 16,
   "metadata": {},
   "outputs": [],
   "source": [
    "# Setting dependencies\n",
    "from splinter import Browser\n",
    "from bs4 import BeautifulSoup\n",
    "import pandas as pd\n",
    "import requests\n",
    "import pymongo\n",
    "from flask import Flask, render_template, redirect\n",
    "from flask_pymongo import PyMongo\n",
    "import numpy as np\n",
    "import time\n",
    "import re\n",
    "import warnings\n",
    "from splinter import Browser"
   ]
  },
  {
   "cell_type": "code",
   "execution_count": 17,
   "metadata": {},
   "outputs": [],
   "source": [
    "# Setting path to chromedriver\n",
    "executable_path = {'executable_path': '/Users/konstajokipii/NU_BOOTCAMP/web-scraping-challenge/chromedriver'}\n",
    "browser = Browser('chrome', **executable_path, headless=False)"
   ]
  },
  {
   "cell_type": "code",
   "execution_count": 18,
   "metadata": {},
   "outputs": [
    {
     "name": "stdout",
     "output_type": "stream",
     "text": [
      "NASA's Mars Helicopter to Make First Flight Attempt Sunday\n",
      "The small rotorcraft’s “Wright brothers moment” is two Mars days away.\n"
     ]
    }
   ],
   "source": [
    "# Visiting Mars news URL\n",
    "NasaMarsNews = 'https://mars.nasa.gov/news/'\n",
    "browser.visit(NasaMarsNews)\n",
    "\n",
    "# Creating HTML object\n",
    "html = browser.html\n",
    "\n",
    "# Parsing HTML w/ BeautifulSoup\n",
    "soup = BeautifulSoup(html, 'html.parser')\n",
    "\n",
    "# Getting the first item in a list <li> under an unordered list <ul> \n",
    "latest_news = soup.find('li', class_='slide')\n",
    "\n",
    "# Saving the news item under a <div> container\n",
    "news_title = latest_news.find('div', class_='content_title').text\n",
    "print(news_title)\n",
    "\n",
    "# Saving the text paragraph in the container with an 'article_teaser_body' class\n",
    "news_paragraph = latest_news.find('div', class_='article_teaser_body').text\n",
    "print(news_paragraph)"
   ]
  },
  {
   "cell_type": "code",
   "execution_count": 19,
   "metadata": {},
   "outputs": [
    {
     "data": {
      "text/html": [
       "<div>\n",
       "<style scoped>\n",
       "    .dataframe tbody tr th:only-of-type {\n",
       "        vertical-align: middle;\n",
       "    }\n",
       "\n",
       "    .dataframe tbody tr th {\n",
       "        vertical-align: top;\n",
       "    }\n",
       "\n",
       "    .dataframe thead th {\n",
       "        text-align: right;\n",
       "    }\n",
       "</style>\n",
       "<table border=\"1\" class=\"dataframe\">\n",
       "  <thead>\n",
       "    <tr style=\"text-align: right;\">\n",
       "      <th></th>\n",
       "      <th>Description</th>\n",
       "      <th>Value</th>\n",
       "    </tr>\n",
       "  </thead>\n",
       "  <tbody>\n",
       "    <tr>\n",
       "      <th>0</th>\n",
       "      <td>Equatorial Diameter:</td>\n",
       "      <td>6,792 km</td>\n",
       "    </tr>\n",
       "    <tr>\n",
       "      <th>1</th>\n",
       "      <td>Polar Diameter:</td>\n",
       "      <td>6,752 km</td>\n",
       "    </tr>\n",
       "    <tr>\n",
       "      <th>2</th>\n",
       "      <td>Mass:</td>\n",
       "      <td>6.39 × 10^23 kg (0.11 Earths)</td>\n",
       "    </tr>\n",
       "    <tr>\n",
       "      <th>3</th>\n",
       "      <td>Moons:</td>\n",
       "      <td>2 (Phobos &amp; Deimos)</td>\n",
       "    </tr>\n",
       "    <tr>\n",
       "      <th>4</th>\n",
       "      <td>Orbit Distance:</td>\n",
       "      <td>227,943,824 km (1.38 AU)</td>\n",
       "    </tr>\n",
       "    <tr>\n",
       "      <th>5</th>\n",
       "      <td>Orbit Period:</td>\n",
       "      <td>687 days (1.9 years)</td>\n",
       "    </tr>\n",
       "    <tr>\n",
       "      <th>6</th>\n",
       "      <td>Surface Temperature:</td>\n",
       "      <td>-87 to -5 °C</td>\n",
       "    </tr>\n",
       "    <tr>\n",
       "      <th>7</th>\n",
       "      <td>First Record:</td>\n",
       "      <td>2nd millennium BC</td>\n",
       "    </tr>\n",
       "    <tr>\n",
       "      <th>8</th>\n",
       "      <td>Recorded By:</td>\n",
       "      <td>Egyptian astronomers</td>\n",
       "    </tr>\n",
       "  </tbody>\n",
       "</table>\n",
       "</div>"
      ],
      "text/plain": [
       "            Description                          Value\n",
       "0  Equatorial Diameter:                       6,792 km\n",
       "1       Polar Diameter:                       6,752 km\n",
       "2                 Mass:  6.39 × 10^23 kg (0.11 Earths)\n",
       "3                Moons:            2 (Phobos & Deimos)\n",
       "4       Orbit Distance:       227,943,824 km (1.38 AU)\n",
       "5         Orbit Period:           687 days (1.9 years)\n",
       "6  Surface Temperature:                   -87 to -5 °C\n",
       "7         First Record:              2nd millennium BC\n",
       "8          Recorded By:           Egyptian astronomers"
      ]
     },
     "execution_count": 19,
     "metadata": {},
     "output_type": "execute_result"
    }
   ],
   "source": [
    "# Visiting Mars facts URL\n",
    "MarsFacts = 'https://space-facts.com/mars/'\n",
    "browser.visit(MarsFacts)\n",
    "\n",
    "# Creating HTML object\n",
    "html = browser.html\n",
    "\n",
    "# Using pandas to scrape the table\n",
    "table = pd.read_html(html)\n",
    "\n",
    "# Slicing the table into a dataframe\n",
    "marsfacts_df = table[0]\n",
    "marsfacts_df.columns =['Description', 'Value']\n",
    "marsfacts_df"
   ]
  },
  {
   "cell_type": "code",
   "execution_count": 20,
   "metadata": {},
   "outputs": [
    {
     "data": {
      "text/plain": [
       "[{'title': 'Cerberus Hemisphere Enhanced',\n",
       "  'img_url': 'https://astrogeology.usgs.gov/cache/images/f5e372a36edfa389625da6d0cc25d905_cerberus_enhanced.tif_full.jpg'},\n",
       " {'title': 'Schiaparelli Hemisphere Enhanced',\n",
       "  'img_url': 'https://astrogeology.usgs.gov/cache/images/3778f7b43bbbc89d6e3cfabb3613ba93_schiaparelli_enhanced.tif_full.jpg'},\n",
       " {'title': 'Syrtis Major Hemisphere Enhanced',\n",
       "  'img_url': 'https://astrogeology.usgs.gov/cache/images/555e6403a6ddd7ba16ddb0e471cadcf7_syrtis_major_enhanced.tif_full.jpg'},\n",
       " {'title': 'Valles Marineris Hemisphere Enhanced',\n",
       "  'img_url': 'https://astrogeology.usgs.gov/cache/images/b3c7c6c9138f57b4756be9b9c43e3a48_valles_marineris_enhanced.tif_full.jpg'}]"
      ]
     },
     "execution_count": 20,
     "metadata": {},
     "output_type": "execute_result"
    }
   ],
   "source": [
    "# Visiting USGS Astrogeology URL\n",
    "MarsHemisphere = 'https://astrogeology.usgs.gov/search/results?q=hemisphere+enhanced&k1=target&v1=Mars'\n",
    "browser.visit(MarsHemisphere)\n",
    "\n",
    "# Creating HTML object\n",
    "html = browser.html\n",
    "\n",
    "# Parsing HTML w/ BeautifulSoup\n",
    "soup = BeautifulSoup(html, 'html.parser')\n",
    "\n",
    "# Retrieing parent containers for each hemisphere \n",
    "hemispheres = soup.find_all('div', class_=\"item\")\n",
    "\n",
    "# Creating empty list for storing the python dictionary\n",
    "hemisphere_image_data = []\n",
    "\n",
    "# For loop through each container\n",
    "for hemisphere in range(len(hemispheres)):\n",
    "\n",
    "    # Using Splinter to click on all links to get image data\n",
    "    hemisphere_url = browser.find_by_css(\"a.product-item h3\")\n",
    "    hemisphere_url[hemisphere].click()\n",
    "    \n",
    "    # Creating a BeautifulSoup object with the image URL\n",
    "    image_url = browser.html\n",
    "    image_soup = BeautifulSoup(image_url, 'html.parser')\n",
    "    \n",
    "    # Storing prefix URL for fullsize image links\n",
    "    prefix_url = 'https://astrogeology.usgs.gov'\n",
    "    \n",
    "    # Saving full resolution images into variable\n",
    "    suffix_url = image_soup.find('img', class_=\"wide-image\")['src']\n",
    "    \n",
    "    # Joining URLs\n",
    "    full_image_url = prefix_url + suffix_url\n",
    "\n",
    "    # Saving image title into a variable\n",
    "    image_title = browser.find_by_css('.title').text\n",
    "    \n",
    "    # Adding key value pairs to python dictionary and appending to list\n",
    "    hemisphere_image_data.append({\"title\": image_title,\n",
    "                              \"img_url\": full_image_url})\n",
    "    \n",
    "    # Returning to main page\n",
    "    browser.back()\n",
    "    \n",
    "# Closing browser session  \n",
    "browser.quit()\n",
    "\n",
    "hemisphere_image_data"
   ]
  },
  {
   "cell_type": "code",
   "execution_count": null,
   "metadata": {},
   "outputs": [],
   "source": []
  }
 ],
 "metadata": {
  "kernelspec": {
   "display_name": "Python 3",
   "language": "python",
   "name": "python3"
  },
  "language_info": {
   "codemirror_mode": {
    "name": "ipython",
    "version": 3
   },
   "file_extension": ".py",
   "mimetype": "text/x-python",
   "name": "python",
   "nbconvert_exporter": "python",
   "pygments_lexer": "ipython3",
   "version": "3.8.3"
  }
 },
 "nbformat": 4,
 "nbformat_minor": 4
}
